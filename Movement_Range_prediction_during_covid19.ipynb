{
 "cells": [
  {
   "cell_type": "markdown",
   "id": "7117e1ea-6b25-467f-8446-274d5cc68cc0",
   "metadata": {},
   "source": [
    "*Ahmad Syauki Asshiddiqie - S1 - Teknik Geodesi dan Geomatika*\n",
    "\n",
    "***Civilian Movement Prediction during Covid-19***\n",
    "\n",
    "**Note : Untuk mencetak dokumen, gunakan opsi *'Print - Poster'* pada Adobe Reader, dengan Tile Scale 70%**\n",
    "\n",
    "Prediksi ini bertujuan untuk memprediksi **Persentase Masyarakat Diam di Rumah (PMDR)** dari tanggal 12 Desember 2021 hingga 13 Januari 2021.\n",
    "Adapun model yang dibuat nantinya bisa digunakan untuk memprediksi Rasio Berdiam diri untuk hari-hari setelahnya(>13 Januari 2021)\n",
    "\n",
    "Untuk melihat hasil akhir, dapat langsung menuju 5 baris kode terakhir"
   ]
  },
  {
   "cell_type": "markdown",
   "id": "5ef9ca31-5d16-4cb6-aaf7-725e72c8677c",
   "metadata": {},
   "source": [
    " "
   ]
  },
  {
   "cell_type": "markdown",
   "id": "08fd6015-042e-46eb-9fa5-a3ac3e964e31",
   "metadata": {},
   "source": [
    "Import Packages :"
   ]
  },
  {
   "cell_type": "code",
   "execution_count": 1,
   "id": "3bda59b4-a529-49dd-a935-68ff13fd96e4",
   "metadata": {},
   "outputs": [],
   "source": [
    "import pandas as pd\n",
    "import numpy as np"
   ]
  },
  {
   "cell_type": "markdown",
   "id": "a0aaeff0-b485-4669-a082-2789a627a867",
   "metadata": {},
   "source": [
    "Preprocessing #1 - Filter data dengan atribut 'country' = 'IDN' -> Indonesia.\n",
    "\n",
    "Adapun raw_data berisikan data "
   ]
  },
  {
   "cell_type": "code",
   "execution_count": 2,
   "id": "b2a62f61-8182-4888-9bdc-b6acaa8544c6",
   "metadata": {},
   "outputs": [
    {
     "name": "stderr",
     "output_type": "stream",
     "text": [
      "C:\\Users\\Rifqi\\anaconda3\\lib\\site-packages\\IPython\\core\\interactiveshell.py:3165: DtypeWarning: Columns (3) have mixed types.Specify dtype option on import or set low_memory=False.\n",
      "  has_raised = await self.run_ast_nodes(code_ast.body, cell_name,\n"
     ]
    }
   ],
   "source": [
    "df = pd.read_csv('movement-range-data-2020-03-01--2020-12-31.txt', sep='\\t')"
   ]
  },
  {
   "cell_type": "code",
   "execution_count": 3,
   "id": "0367a7fd-2e0c-4f91-b194-685bf7994114",
   "metadata": {},
   "outputs": [
    {
     "data": {
      "text/html": [
       "<div>\n",
       "<style scoped>\n",
       "    .dataframe tbody tr th:only-of-type {\n",
       "        vertical-align: middle;\n",
       "    }\n",
       "\n",
       "    .dataframe tbody tr th {\n",
       "        vertical-align: top;\n",
       "    }\n",
       "\n",
       "    .dataframe thead th {\n",
       "        text-align: right;\n",
       "    }\n",
       "</style>\n",
       "<table border=\"1\" class=\"dataframe\">\n",
       "  <thead>\n",
       "    <tr style=\"text-align: right;\">\n",
       "      <th></th>\n",
       "      <th>ds</th>\n",
       "      <th>country</th>\n",
       "      <th>polygon_source</th>\n",
       "      <th>polygon_id</th>\n",
       "      <th>polygon_name</th>\n",
       "      <th>all_day_bing_tiles_visited_relative_change</th>\n",
       "      <th>all_day_ratio_single_tile_users</th>\n",
       "      <th>baseline_name</th>\n",
       "      <th>baseline_type</th>\n",
       "    </tr>\n",
       "  </thead>\n",
       "  <tbody>\n",
       "    <tr>\n",
       "      <th>0</th>\n",
       "      <td>2020-03-01</td>\n",
       "      <td>AGO</td>\n",
       "      <td>GADM</td>\n",
       "      <td>AGO.10.10_1</td>\n",
       "      <td>Lubango</td>\n",
       "      <td>-0.02992</td>\n",
       "      <td>0.18751</td>\n",
       "      <td>full_february</td>\n",
       "      <td>DAY_OF_WEEK</td>\n",
       "    </tr>\n",
       "    <tr>\n",
       "      <th>1</th>\n",
       "      <td>2020-03-02</td>\n",
       "      <td>AGO</td>\n",
       "      <td>GADM</td>\n",
       "      <td>AGO.10.10_1</td>\n",
       "      <td>Lubango</td>\n",
       "      <td>0.06746</td>\n",
       "      <td>0.10521</td>\n",
       "      <td>full_february</td>\n",
       "      <td>DAY_OF_WEEK</td>\n",
       "    </tr>\n",
       "    <tr>\n",
       "      <th>2</th>\n",
       "      <td>2020-03-03</td>\n",
       "      <td>AGO</td>\n",
       "      <td>GADM</td>\n",
       "      <td>AGO.10.10_1</td>\n",
       "      <td>Lubango</td>\n",
       "      <td>0.05873</td>\n",
       "      <td>0.11397</td>\n",
       "      <td>full_february</td>\n",
       "      <td>DAY_OF_WEEK</td>\n",
       "    </tr>\n",
       "    <tr>\n",
       "      <th>3</th>\n",
       "      <td>2020-03-04</td>\n",
       "      <td>AGO</td>\n",
       "      <td>GADM</td>\n",
       "      <td>AGO.10.10_1</td>\n",
       "      <td>Lubango</td>\n",
       "      <td>0.01288</td>\n",
       "      <td>0.10492</td>\n",
       "      <td>full_february</td>\n",
       "      <td>DAY_OF_WEEK</td>\n",
       "    </tr>\n",
       "    <tr>\n",
       "      <th>4</th>\n",
       "      <td>2020-03-05</td>\n",
       "      <td>AGO</td>\n",
       "      <td>GADM</td>\n",
       "      <td>AGO.10.10_1</td>\n",
       "      <td>Lubango</td>\n",
       "      <td>0.02753</td>\n",
       "      <td>0.11056</td>\n",
       "      <td>full_february</td>\n",
       "      <td>DAY_OF_WEEK</td>\n",
       "    </tr>\n",
       "  </tbody>\n",
       "</table>\n",
       "</div>"
      ],
      "text/plain": [
       "           ds country polygon_source   polygon_id polygon_name  \\\n",
       "0  2020-03-01     AGO           GADM  AGO.10.10_1      Lubango   \n",
       "1  2020-03-02     AGO           GADM  AGO.10.10_1      Lubango   \n",
       "2  2020-03-03     AGO           GADM  AGO.10.10_1      Lubango   \n",
       "3  2020-03-04     AGO           GADM  AGO.10.10_1      Lubango   \n",
       "4  2020-03-05     AGO           GADM  AGO.10.10_1      Lubango   \n",
       "\n",
       "   all_day_bing_tiles_visited_relative_change  \\\n",
       "0                                    -0.02992   \n",
       "1                                     0.06746   \n",
       "2                                     0.05873   \n",
       "3                                     0.01288   \n",
       "4                                     0.02753   \n",
       "\n",
       "   all_day_ratio_single_tile_users  baseline_name baseline_type  \n",
       "0                          0.18751  full_february   DAY_OF_WEEK  \n",
       "1                          0.10521  full_february   DAY_OF_WEEK  \n",
       "2                          0.11397  full_february   DAY_OF_WEEK  \n",
       "3                          0.10492  full_february   DAY_OF_WEEK  \n",
       "4                          0.11056  full_february   DAY_OF_WEEK  "
      ]
     },
     "execution_count": 3,
     "metadata": {},
     "output_type": "execute_result"
    }
   ],
   "source": [
    "df.head(5)"
   ]
  },
  {
   "cell_type": "code",
   "execution_count": 4,
   "id": "58a2a6f3-97f3-4af3-bfee-0b4df045ecf8",
   "metadata": {},
   "outputs": [],
   "source": [
    "a='IDN'\n",
    "df2 = df[df['country']==a]"
   ]
  },
  {
   "cell_type": "markdown",
   "id": "6895dc44-8fc1-4b0f-809d-951d60bc59a3",
   "metadata": {},
   "source": [
    "Preprocessing #2 V.1 (Cara Simple) - Filter data dengan atribut \"polygon_name\" = Nama Kota dan Kabupaten di Jawa Barat :"
   ]
  },
  {
   "cell_type": "code",
   "execution_count": null,
   "id": "2b2676e5-6ddf-4185-86a0-fd8747bce50c",
   "metadata": {},
   "outputs": [],
   "source": []
  },
  {
   "cell_type": "code",
   "execution_count": null,
   "id": "6229d370-435e-4ae1-b039-2b7f858892ea",
   "metadata": {},
   "outputs": [],
   "source": [
    "#Cek isian dari kolom 'polygon_name' yang berisi nama Kota dan Kabupaten di Indonesia\n",
    "\n",
    "unique, counts = np.unique(df2['polygon_name'], return_counts = True)\n",
    "#countspercent = counts/np.sum(counts)\n",
    "dict(zip(unique,counts))"
   ]
  },
  {
   "cell_type": "code",
   "execution_count": 6,
   "id": "fbc7df5a-804e-45b8-ad27-9c4c3529fba1",
   "metadata": {},
   "outputs": [],
   "source": [
    "#Kota dan Kabupaten di Jawa Barat\n",
    "\n",
    "jabarregion =['Bogor','Sukabumi','Cianjur','Bandung','Garut','Tasikmalaya','Ciamis',\n",
    "            'Kuningan','Cirebon','Majalengka','Sumedang','Indramayu','Subang','Purwakarta',\n",
    "            'Karawang','Bekasi','Bandung Barat','Kota Bogor','Kota Sukabumi','Kota Bandung','Kota Cirebon',\n",
    "            'Kota Bekasi','Kota Depok','Kota Cimahi','Kota Tasikmalaya','Kota Banjar','Pangandaran']"
   ]
  },
  {
   "cell_type": "code",
   "execution_count": 7,
   "id": "f9759ac9-1e68-4641-a2c9-72d195cc95f7",
   "metadata": {},
   "outputs": [],
   "source": [
    "#Checkpoint 1\n",
    "\n",
    "dfcheckpoint = df2.copy()"
   ]
  },
  {
   "cell_type": "code",
   "execution_count": 8,
   "id": "f5405044-6f29-4439-906a-525e44c2e314",
   "metadata": {},
   "outputs": [],
   "source": [
    "df_isin=df2[df2['polygon_name'].isin(jabarregion)]"
   ]
  },
  {
   "cell_type": "code",
   "execution_count": 9,
   "id": "6960dc68-879a-4eba-8e3b-5e8d3417a5dd",
   "metadata": {},
   "outputs": [
    {
     "data": {
      "text/plain": [
       "array(['Garut', 'Indramayu', 'Karawang', 'Kota Bandung', 'Kota Bekasi',\n",
       "       'Kota Bogor', 'Kota Cirebon', 'Kota Sukabumi', 'Kota Tasikmalaya',\n",
       "       'Bandung Barat', 'Kuningan', 'Majalengka', 'Purwakarta', 'Subang',\n",
       "       'Sukabumi', 'Sumedang', 'Tasikmalaya', 'Bandung', 'Bekasi',\n",
       "       'Bogor', 'Ciamis', 'Cianjur', 'Cirebon'], dtype=object)"
      ]
     },
     "execution_count": 9,
     "metadata": {},
     "output_type": "execute_result"
    }
   ],
   "source": [
    "df_isin['polygon_name'].unique()\n",
    "\n",
    "#df3 merupakan Table yang isinya sudah difilter sesuai dengan nama Kota dan Kabupaten di Jawa Barat"
   ]
  },
  {
   "cell_type": "markdown",
   "id": "c111bc5c-b3a5-4acb-8829-1a7f91379341",
   "metadata": {},
   "source": [
    " "
   ]
  },
  {
   "cell_type": "markdown",
   "id": "3e3ec894-52c9-41ab-81eb-7b4e1ceb23a3",
   "metadata": {},
   "source": [
    "Preprocessing #2 Versi 2 (Cara Sulit) - Filtering Menggunakan Logika Pengolahan Matrix\n",
    "\n",
    "Dikarenakan Coding ini adalah proses melatih logika saya, maka versi yang akan saya gunakan adalah Versi 2 ini."
   ]
  },
  {
   "cell_type": "markdown",
   "id": "ca7eb384-f6be-47c9-8a28-b507f7407103",
   "metadata": {},
   "source": [
    "Preprocessing #2.1 - Pembuatan Classifier Column yang berasal dari Kolom 'polygon_name' dari DataFrame yang masih berisi semua daerah di Indonesia :"
   ]
  },
  {
   "cell_type": "code",
   "execution_count": 10,
   "id": "682ddf1a-c2ab-4afd-a96e-282cbca4b37c",
   "metadata": {},
   "outputs": [],
   "source": [
    "classifiercolumn = dfcheckpoint['polygon_name'].copy()\n",
    "classifiercolumn2 = np.array(classifiercolumn)\n",
    "classifiercolumn3 = pd.DataFrame(columns=['Region'],data=classifiercolumn2)"
   ]
  },
  {
   "cell_type": "markdown",
   "id": "812d3316-f894-47e2-a17d-42ab7e21976c",
   "metadata": {},
   "source": [
    "Preprocessing #2.2 - Pembuatan Algoritma filtering DataFrame berdasarkan nama daerah yang terdapat dalam list 'jabarregion' pada line 5 :"
   ]
  },
  {
   "cell_type": "code",
   "execution_count": 11,
   "id": "f51f3f26-692a-4918-8f14-9d84deb9a810",
   "metadata": {},
   "outputs": [],
   "source": [
    "#Inisialisasi counter array untuk algoritma klasifikasi\n",
    "counterarr = []"
   ]
  },
  {
   "cell_type": "code",
   "execution_count": 12,
   "id": "1c9a36f8-e621-47fd-8297-c019c2173a7b",
   "metadata": {},
   "outputs": [],
   "source": [
    "#Pembuatan DataFrame filter yang bersumber dari list 'jabarregion' pada line 5\n",
    "filt = pd.DataFrame(columns=['Jabar'],data=jabarregion)"
   ]
  },
  {
   "cell_type": "code",
   "execution_count": 13,
   "id": "92773bee-810a-40c8-a18e-a96685f829f4",
   "metadata": {},
   "outputs": [],
   "source": [
    "# Pengisian counterarr dengan proses looping for. \n",
    "# Jika value yang ada di 'filt'(nama daerah di Jabar) == 'classifiercolumn', \n",
    "#     maka counterarr[i] akan terisi dengan 1. \n",
    "# jika 'filt' != 'classifiercolumn' , maka counterarr[i] akan terisi dengan .\n",
    "for i in range(filt.shape[0]):\n",
    "    for j in range(classifiercolumn3.shape[0]):\n",
    "        if filt['Jabar'][i] == classifiercolumn3['Region'][j]:\n",
    "            counterarr.append(1)\n",
    "        else:\n",
    "            counterarr.append(0)"
   ]
  },
  {
   "cell_type": "markdown",
   "id": "e2c5b9c5-83a4-4bc9-8691-712c11f6ddbd",
   "metadata": {},
   "source": [
    "Preprocessing #2.3 - Reformat Counter Array :"
   ]
  },
  {
   "cell_type": "code",
   "execution_count": 14,
   "id": "4b45d037-99b2-4289-8dc8-5ef3061c182b",
   "metadata": {},
   "outputs": [
    {
     "data": {
      "text/plain": [
       "3970431"
      ]
     },
     "execution_count": 14,
     "metadata": {},
     "output_type": "execute_result"
    }
   ],
   "source": [
    "# Mengubah 'counterarr' menjadi Numpy Array (supaya lebih mudah proses matematisnya) bernama 'counter'.\n",
    "# dan juga cek shape dari 'counter', dimana ukuran 'counter' harus = 27*classifiercolumn.shape[0] \n",
    "#      27 berasal dari jumlah item di jabarregion\n",
    "counter =  np.array(counterarr)\n",
    "counter.shape[0]"
   ]
  },
  {
   "cell_type": "code",
   "execution_count": 15,
   "id": "f9fbf143-4fb1-4a67-b0a8-a7b82c257384",
   "metadata": {},
   "outputs": [],
   "source": [
    "#Reshape 'counter' menjadi berukuran 147053 x 27\n",
    "#    147053 = classifiercolumn.shape[0]\n",
    "counter = counter.reshape(27,int(counter.shape[0]/27)).T\n",
    "#Proses harus dilakukan seperti diatas, yaitu di reshape lalu transpose, \n",
    "#    agar urutan kolom sesuai dengan yang saya inginkan, \n",
    "#    dimana masing masing kolom pada tiap baris akan berisi integer 0 atau 1.\n",
    "#Jika dalam satu baris terdapat kolom yang bernilai 1, \n",
    "#    maka baris tersebut berisi data daerah Jawa Barat\n",
    "#Jika dalam satu baris tidak terdapat kolom yang bernilai 1, \n",
    "#    maka baris tersebut berisi data daerah bukan Jawa Barat"
   ]
  },
  {
   "cell_type": "code",
   "execution_count": 16,
   "id": "0aa46e18-1855-4d4d-a11c-63162e4ebde7",
   "metadata": {},
   "outputs": [],
   "source": [
    "#Membuat DataFrame bernama 'counterdf2' dengan kolom 'jabarclassifier' \n",
    "#    yang berisi nilai maximal(1 atau 0) dari tiap baris pada 'counter' ,\n",
    "#    jika 'jabarclassifier' == 1, maka baris tersebut merupakan daerah Jabar\n",
    "#    jika 'jabarclassifier' == 0, maka baris tersebut bukan daerah Jabar\n",
    "counterdf = pd.DataFrame(columns = jabarregion,data = counter)\n",
    "counterdf['jabarclassifier']=counterdf.max(axis=1)\n",
    "\n",
    "#drop kolom yang tidak dibutuhkan. \n",
    "#    Tidak semua item pada jabarregion terdapat pada counterdf.columns.values\n",
    "#    Maka, saya cek terlebih dahulu nama kolom yang saya akan hapus dengan :\n",
    "#    counterdf.columns.values\n",
    "\n",
    "counterdf2 = counterdf.drop(['Bogor','Sukabumi','Cianjur','Bandung','Garut','Tasikmalaya','Ciamis',\n",
    "            'Kuningan','Cirebon','Majalengka','Sumedang','Indramayu','Subang','Purwakarta',\n",
    "            'Karawang','Bekasi','Bandung Barat','Kota Bogor','Kota Sukabumi','Kota Bandung','Kota Cirebon',\n",
    "            'Kota Bekasi','Kota Depok','Kota Cimahi','Kota Tasikmalaya','Kota Banjar','Pangandaran'],axis=1)"
   ]
  },
  {
   "cell_type": "code",
   "execution_count": 17,
   "id": "7fb366b9-a697-45f6-aaf0-5933af69c8ab",
   "metadata": {},
   "outputs": [
    {
     "data": {
      "text/plain": [
       "(147053, 1)"
      ]
     },
     "execution_count": 17,
     "metadata": {},
     "output_type": "execute_result"
    }
   ],
   "source": [
    "#cek shape dari counterdf2, \n",
    "#    ukuran counterdf2 harus = 147053(baris dari dataframe yang akan di filter) x 1(jabarclassifier)\n",
    "counterdf2.shape"
   ]
  },
  {
   "cell_type": "markdown",
   "id": "b94b4d59-7e1a-48bd-91ae-0b65e331be79",
   "metadata": {},
   "source": [
    "Preprocessing #2.4 - Drop kolom yang tidak dibutuhkan pada DataFrame utama & menggabungkan DataFrame utama dengan 'counterdf2' :"
   ]
  },
  {
   "cell_type": "code",
   "execution_count": 18,
   "id": "e2f5eb0b-0af8-4c26-8b4a-fd3b456e81d5",
   "metadata": {},
   "outputs": [],
   "source": [
    "df2.columns.values\n",
    "df3 = df2.drop([#'ds',\n",
    "                'country', 'polygon_source', 'polygon_id', 'baseline_name','baseline_type'],axis=1)"
   ]
  },
  {
   "cell_type": "code",
   "execution_count": 19,
   "id": "b451c5d9-03a3-4440-a3d7-6c584007bd60",
   "metadata": {},
   "outputs": [
    {
     "data": {
      "text/plain": [
       "(147053, 4)"
      ]
     },
     "execution_count": 19,
     "metadata": {},
     "output_type": "execute_result"
    }
   ],
   "source": [
    "df3.shape"
   ]
  },
  {
   "cell_type": "code",
   "execution_count": 20,
   "id": "367f3093-877b-4541-9390-ce5844544bc9",
   "metadata": {},
   "outputs": [],
   "source": [
    "#menggabungkan DataFrame dengan 'counterdf2'\n",
    "df4 = pd.concat([df3.reset_index(drop=True),counterdf2.reset_index(drop=True)],axis=1)"
   ]
  },
  {
   "cell_type": "markdown",
   "id": "3441e9e6-8b30-46bb-942a-858774905c4c",
   "metadata": {},
   "source": [
    "Preprocessing #2.5 - Filtering DataFrame berdasarkan value pada kolom 'jabarclassifier' == 1 :"
   ]
  },
  {
   "cell_type": "code",
   "execution_count": 21,
   "id": "de4c86cb-831a-4f3e-b961-4bcca894de99",
   "metadata": {},
   "outputs": [],
   "source": [
    "datajabar = df4[df4['jabarclassifier']==1]"
   ]
  },
  {
   "cell_type": "markdown",
   "id": "e1f32fd0-6ee8-4b8f-8f2b-b8b4ba811b54",
   "metadata": {},
   "source": [
    "Preprocessing #3 - Formating nama kolom dan mengubah kolom tanggal menjadi bentuk ordinal :"
   ]
  },
  {
   "cell_type": "code",
   "execution_count": 22,
   "id": "7c117820-9d59-4fea-b1d4-fe0d8017afb0",
   "metadata": {},
   "outputs": [],
   "source": [
    "#Mengubah nama kolom supaya lebih mudah diingat\n",
    "columnsname = ['Tanggal','Daerah', 'PergerakanRelatif', 'RasioBerdiamDiri', 'jabarclassifier']\n",
    "datajabar.columns = columnsname"
   ]
  },
  {
   "cell_type": "code",
   "execution_count": 23,
   "id": "6ac56ac2-08d0-41e6-8201-6cf1241df289",
   "metadata": {},
   "outputs": [
    {
     "data": {
      "text/html": [
       "<div>\n",
       "<style scoped>\n",
       "    .dataframe tbody tr th:only-of-type {\n",
       "        vertical-align: middle;\n",
       "    }\n",
       "\n",
       "    .dataframe tbody tr th {\n",
       "        vertical-align: top;\n",
       "    }\n",
       "\n",
       "    .dataframe thead th {\n",
       "        text-align: right;\n",
       "    }\n",
       "</style>\n",
       "<table border=\"1\" class=\"dataframe\">\n",
       "  <thead>\n",
       "    <tr style=\"text-align: right;\">\n",
       "      <th></th>\n",
       "      <th>Tanggal</th>\n",
       "      <th>Daerah</th>\n",
       "      <th>PergerakanRelatif</th>\n",
       "      <th>RasioBerdiamDiri</th>\n",
       "      <th>jabarclassifier</th>\n",
       "    </tr>\n",
       "  </thead>\n",
       "  <tbody>\n",
       "    <tr>\n",
       "      <th>139403</th>\n",
       "      <td>2020-03-01</td>\n",
       "      <td>Garut</td>\n",
       "      <td>0.028</td>\n",
       "      <td>0.19507</td>\n",
       "      <td>1</td>\n",
       "    </tr>\n",
       "  </tbody>\n",
       "</table>\n",
       "</div>"
      ],
      "text/plain": [
       "           Tanggal Daerah  PergerakanRelatif  RasioBerdiamDiri  \\\n",
       "139403  2020-03-01  Garut              0.028           0.19507   \n",
       "\n",
       "        jabarclassifier  \n",
       "139403                1  "
      ]
     },
     "execution_count": 23,
     "metadata": {},
     "output_type": "execute_result"
    }
   ],
   "source": [
    "datajabar.head(1)"
   ]
  },
  {
   "cell_type": "code",
   "execution_count": 25,
   "id": "6949e0fa-2ded-4c71-b01c-23d05dbf1ccf",
   "metadata": {},
   "outputs": [
    {
     "name": "stderr",
     "output_type": "stream",
     "text": [
      "<ipython-input-25-42340e6c3959>:8: SettingWithCopyWarning: \n",
      "A value is trying to be set on a copy of a slice from a DataFrame.\n",
      "Try using .loc[row_indexer,col_indexer] = value instead\n",
      "\n",
      "See the caveats in the documentation: https://pandas.pydata.org/pandas-docs/stable/user_guide/indexing.html#returning-a-view-versus-a-copy\n",
      "  datajabar['Tanggal'] = pd.to_datetime(datajabar['Tanggal'], format = '%Y-%m-%d')\n",
      "<ipython-input-25-42340e6c3959>:9: SettingWithCopyWarning: \n",
      "A value is trying to be set on a copy of a slice from a DataFrame.\n",
      "Try using .loc[row_indexer,col_indexer] = value instead\n",
      "\n",
      "See the caveats in the documentation: https://pandas.pydata.org/pandas-docs/stable/user_guide/indexing.html#returning-a-view-versus-a-copy\n",
      "  datajabar['HariKe']=datajabar['Tanggal'].map(dt.datetime.toordinal)\n"
     ]
    },
    {
     "data": {
      "text/html": [
       "<div>\n",
       "<style scoped>\n",
       "    .dataframe tbody tr th:only-of-type {\n",
       "        vertical-align: middle;\n",
       "    }\n",
       "\n",
       "    .dataframe tbody tr th {\n",
       "        vertical-align: top;\n",
       "    }\n",
       "\n",
       "    .dataframe thead th {\n",
       "        text-align: right;\n",
       "    }\n",
       "</style>\n",
       "<table border=\"1\" class=\"dataframe\">\n",
       "  <thead>\n",
       "    <tr style=\"text-align: right;\">\n",
       "      <th></th>\n",
       "      <th>Tanggal</th>\n",
       "      <th>Daerah</th>\n",
       "      <th>PergerakanRelatif</th>\n",
       "      <th>RasioBerdiamDiri</th>\n",
       "      <th>jabarclassifier</th>\n",
       "      <th>HariKe</th>\n",
       "    </tr>\n",
       "  </thead>\n",
       "  <tbody>\n",
       "    <tr>\n",
       "      <th>139403</th>\n",
       "      <td>2020-03-01</td>\n",
       "      <td>Garut</td>\n",
       "      <td>0.02800</td>\n",
       "      <td>0.19507</td>\n",
       "      <td>1</td>\n",
       "      <td>737485</td>\n",
       "    </tr>\n",
       "    <tr>\n",
       "      <th>139404</th>\n",
       "      <td>2020-03-02</td>\n",
       "      <td>Garut</td>\n",
       "      <td>0.10211</td>\n",
       "      <td>0.16435</td>\n",
       "      <td>1</td>\n",
       "      <td>737486</td>\n",
       "    </tr>\n",
       "    <tr>\n",
       "      <th>139405</th>\n",
       "      <td>2020-03-03</td>\n",
       "      <td>Garut</td>\n",
       "      <td>0.06861</td>\n",
       "      <td>0.18144</td>\n",
       "      <td>1</td>\n",
       "      <td>737487</td>\n",
       "    </tr>\n",
       "    <tr>\n",
       "      <th>139406</th>\n",
       "      <td>2020-03-04</td>\n",
       "      <td>Garut</td>\n",
       "      <td>0.00029</td>\n",
       "      <td>0.19883</td>\n",
       "      <td>1</td>\n",
       "      <td>737488</td>\n",
       "    </tr>\n",
       "    <tr>\n",
       "      <th>139407</th>\n",
       "      <td>2020-03-05</td>\n",
       "      <td>Garut</td>\n",
       "      <td>0.00264</td>\n",
       "      <td>0.19089</td>\n",
       "      <td>1</td>\n",
       "      <td>737489</td>\n",
       "    </tr>\n",
       "    <tr>\n",
       "      <th>...</th>\n",
       "      <td>...</td>\n",
       "      <td>...</td>\n",
       "      <td>...</td>\n",
       "      <td>...</td>\n",
       "      <td>...</td>\n",
       "      <td>...</td>\n",
       "    </tr>\n",
       "    <tr>\n",
       "      <th>139705</th>\n",
       "      <td>2020-12-28</td>\n",
       "      <td>Garut</td>\n",
       "      <td>-0.01746</td>\n",
       "      <td>0.25036</td>\n",
       "      <td>1</td>\n",
       "      <td>737787</td>\n",
       "    </tr>\n",
       "    <tr>\n",
       "      <th>139706</th>\n",
       "      <td>2020-12-29</td>\n",
       "      <td>Garut</td>\n",
       "      <td>-0.01045</td>\n",
       "      <td>0.26165</td>\n",
       "      <td>1</td>\n",
       "      <td>737788</td>\n",
       "    </tr>\n",
       "    <tr>\n",
       "      <th>139707</th>\n",
       "      <td>2020-12-30</td>\n",
       "      <td>Garut</td>\n",
       "      <td>-0.02598</td>\n",
       "      <td>0.25452</td>\n",
       "      <td>1</td>\n",
       "      <td>737789</td>\n",
       "    </tr>\n",
       "    <tr>\n",
       "      <th>139708</th>\n",
       "      <td>2020-12-31</td>\n",
       "      <td>Garut</td>\n",
       "      <td>-0.00677</td>\n",
       "      <td>0.24433</td>\n",
       "      <td>1</td>\n",
       "      <td>737790</td>\n",
       "    </tr>\n",
       "    <tr>\n",
       "      <th>139709</th>\n",
       "      <td>2020-03-01</td>\n",
       "      <td>Indramayu</td>\n",
       "      <td>-0.06220</td>\n",
       "      <td>0.23369</td>\n",
       "      <td>1</td>\n",
       "      <td>737485</td>\n",
       "    </tr>\n",
       "  </tbody>\n",
       "</table>\n",
       "<p>307 rows × 6 columns</p>\n",
       "</div>"
      ],
      "text/plain": [
       "          Tanggal     Daerah  PergerakanRelatif  RasioBerdiamDiri  \\\n",
       "139403 2020-03-01      Garut            0.02800           0.19507   \n",
       "139404 2020-03-02      Garut            0.10211           0.16435   \n",
       "139405 2020-03-03      Garut            0.06861           0.18144   \n",
       "139406 2020-03-04      Garut            0.00029           0.19883   \n",
       "139407 2020-03-05      Garut            0.00264           0.19089   \n",
       "...           ...        ...                ...               ...   \n",
       "139705 2020-12-28      Garut           -0.01746           0.25036   \n",
       "139706 2020-12-29      Garut           -0.01045           0.26165   \n",
       "139707 2020-12-30      Garut           -0.02598           0.25452   \n",
       "139708 2020-12-31      Garut           -0.00677           0.24433   \n",
       "139709 2020-03-01  Indramayu           -0.06220           0.23369   \n",
       "\n",
       "        jabarclassifier  HariKe  \n",
       "139403                1  737485  \n",
       "139404                1  737486  \n",
       "139405                1  737487  \n",
       "139406                1  737488  \n",
       "139407                1  737489  \n",
       "...                 ...     ...  \n",
       "139705                1  737787  \n",
       "139706                1  737788  \n",
       "139707                1  737789  \n",
       "139708                1  737790  \n",
       "139709                1  737485  \n",
       "\n",
       "[307 rows x 6 columns]"
      ]
     },
     "execution_count": 25,
     "metadata": {},
     "output_type": "execute_result"
    }
   ],
   "source": [
    "# berdasarkan dari unique & counts pada line 4, didapat bahwa tiap daerah terdiri dari 306 baris data, \n",
    "#    yang mana 306 baris tersebut mewakili 306 hari. \n",
    "#    Sehingga, tiap 306 baris, tanggal akan berulang pada daerah yang berbeda. \n",
    "\n",
    "# Tanggal saya format menjadi bentuk ordinal.\n",
    "\n",
    "import datetime as dt\n",
    "datajabar['Tanggal'] = pd.to_datetime(datajabar['Tanggal'], format = '%Y-%m-%d')\n",
    "datajabar['HariKe']=datajabar['Tanggal'].map(dt.datetime.toordinal)\n",
    "datajabar.head(307)"
   ]
  },
  {
   "cell_type": "markdown",
   "id": "fd7db76a-3697-432a-b5f1-1ce64ea885c6",
   "metadata": {},
   "source": [
    "Preprocessing #4 - Formatting data input (X) untuk model, dimana input berasal dari kolom 'HariKe' yang berisi tanggal dalam bentuk ordinal, yang kemudian saya kurangi 737484, untuk mengurangi magnitude gap pada data. Karena jika inputan bernilai puluhan ribu, sedangkan output/target hanya bernilai 0 s.d. 1, akan menghasilkan model yang kurang bagus :"
   ]
  },
  {
   "cell_type": "code",
   "execution_count": 26,
   "id": "a166725f-a0a2-4108-8eff-1dedd315a38b",
   "metadata": {},
   "outputs": [],
   "source": [
    "inputs = (datajabar['HariKe'].iloc[:306]) -737484"
   ]
  },
  {
   "cell_type": "code",
   "execution_count": 27,
   "id": "738ef1e3-fe34-46d2-8422-3fad2e887302",
   "metadata": {},
   "outputs": [
    {
     "data": {
      "text/plain": [
       "139403      1\n",
       "139404      2\n",
       "139405      3\n",
       "139406      4\n",
       "139407      5\n",
       "         ... \n",
       "139704    302\n",
       "139705    303\n",
       "139706    304\n",
       "139707    305\n",
       "139708    306\n",
       "Name: HariKe, Length: 306, dtype: int64"
      ]
     },
     "execution_count": 27,
     "metadata": {},
     "output_type": "execute_result"
    }
   ],
   "source": [
    "inputs"
   ]
  },
  {
   "cell_type": "markdown",
   "id": "3363e976-7302-43c9-96af-1ca8f6c9e5d4",
   "metadata": {},
   "source": [
    "Preprocessing #5 - Pembuatan dan Formating data target (Y) untuk model, dimana output berasal dari kolom 'PergerakanRelatif' dan 'RatioBerdiamDiri' dari DataFrame 'datajabar':"
   ]
  },
  {
   "cell_type": "code",
   "execution_count": 28,
   "id": "2176905c-25d5-416a-92ee-c1e33cf682a9",
   "metadata": {},
   "outputs": [],
   "source": [
    "#Reduksi kolom, dan reformat DataFrame \n",
    "#    untuk perhitungan PergerakanRelatif dan RatioDiam total perhari di Jawa Barat\n",
    "np.set_printoptions(precision=5, threshold = 100)\n",
    "\n",
    "#Reshape datajabar agar kolom ganjil berisi data Pergerakan Relatif dan kolom genap berisi Rasio Diam Ditempat\n",
    "datajabar4 = datajabar.drop(['Tanggal','HariKe','Daerah','jabarclassifier'],axis=1).to_numpy().reshape(46,306).T"
   ]
  },
  {
   "cell_type": "code",
   "execution_count": 29,
   "id": "ab5d2b02-748f-45a5-91cd-37abcdef6e1b",
   "metadata": {},
   "outputs": [
    {
     "data": {
      "text/plain": [
       "(306, 46)"
      ]
     },
     "execution_count": 29,
     "metadata": {},
     "output_type": "execute_result"
    }
   ],
   "source": [
    "datajabar4.shape\n",
    "# 306 merupakan jumlah hari\n",
    "# 46 merupakan jumlah Jabupaten dan Kota Jawa Barat yang terletak pada DataFrame (23) \n",
    "#    dikalikan dengan jumlah variabel (2) yaitu Pergerakan relatif dan Rasio Diam"
   ]
  },
  {
   "cell_type": "code",
   "execution_count": 30,
   "id": "e628bdc9-5ef4-41b1-bf44-57a6c4678ccf",
   "metadata": {},
   "outputs": [
    {
     "data": {
      "text/plain": [
       "array([[ 0.028  ,  0.03901, -0.0622 , ...,  0.01337, -0.02687, -0.05779],\n",
       "       [ 0.19507,  0.18139,  0.23369, ...,  0.20308,  0.17731,  0.16862],\n",
       "       [ 0.10211,  0.24262,  0.07848, ...,  0.19223,  0.08743,  0.09751],\n",
       "       ...,\n",
       "       [ 0.19321,  0.25452,  0.19307, ...,  0.25448,  0.16505,  0.23161],\n",
       "       [-0.05177, -0.00677,  0.25162, ..., -0.05237, -0.0791 ,  0.08001],\n",
       "       [ 0.20411,  0.24433,  0.15569, ...,  0.24273,  0.15472,  0.20752]])"
      ]
     },
     "execution_count": 30,
     "metadata": {},
     "output_type": "execute_result"
    }
   ],
   "source": [
    "datajabar4\n",
    "# kolom ganjil = pergerakan relatif. Masing2 kolom mewakili 1 Kota/Kabupaten di Jawa Barat\n",
    "# kolom genap = rasio diam ditempat. Masing2 kolom mewakili 1 Kota/Kabupaten di Jawa Barat\n",
    "# 1 baris = 1 hari"
   ]
  },
  {
   "cell_type": "code",
   "execution_count": 31,
   "id": "59bcf954-d17d-48d4-9915-428ca1958111",
   "metadata": {},
   "outputs": [],
   "source": [
    "#Perhitungan PergerakanRelatif rata-rata Jawa Barat per Hari\n",
    "PergerakanRelatif = np.absolute(datajabar4[:, 0::2]).mean(axis=1)\n",
    "\n",
    "#Perhitungan RatioDiam rata-rata Jawa Barat per Hari\n",
    "RatioDiam = np.absolute(datajabar4[:, 1::2]).mean(axis=1)\n",
    "\n",
    "#Menggabungkan data untuk di backup\n",
    "preprocessedjabar= np.column_stack((PergerakanRelatif,RatioDiam))"
   ]
  },
  {
   "cell_type": "code",
   "execution_count": 32,
   "id": "b9f7909e-a150-466e-96f2-e7925ffe2326",
   "metadata": {},
   "outputs": [
    {
     "data": {
      "text/plain": [
       "array([[0.03787, 0.07216],\n",
       "       [0.19167, 0.19365],\n",
       "       [0.06711, 0.14098],\n",
       "       ...,\n",
       "       [0.18935, 0.24162],\n",
       "       [0.11435, 0.06767],\n",
       "       [0.20245, 0.22971]])"
      ]
     },
     "execution_count": 32,
     "metadata": {},
     "output_type": "execute_result"
    }
   ],
   "source": [
    "preprocessedjabar"
   ]
  },
  {
   "cell_type": "markdown",
   "id": "c6f9857b-3af1-4048-ba3b-847b2f941e26",
   "metadata": {},
   "source": [
    "Preprocessing #5.1 - Backup Data"
   ]
  },
  {
   "cell_type": "code",
   "execution_count": 33,
   "id": "7d435c27-1c30-492d-a9cf-15fad4e6ab29",
   "metadata": {},
   "outputs": [],
   "source": [
    "#checkpoint\n",
    "np.savetxt(\"preprocessedjabar.csv\", preprocessedjabar, delimiter=\",\")"
   ]
  },
  {
   "cell_type": "markdown",
   "id": "994f7f55-f1da-402d-844d-3c8691769e6d",
   "metadata": {},
   "source": [
    "Preprocessing #5.2 - Pembuatan Proporsi Masyarakat Di Rumah (PMDR) --> Target (Y) yang akan dipakai. Saya tidak tahu formulasi pastinya, tapi saya asumsikan proporsi masyarakat dirumah = Rasio dari RatioDiam dengan PergerakanRelatif+RatioDiam :"
   ]
  },
  {
   "cell_type": "code",
   "execution_count": 34,
   "id": "cdd265bf-d48f-4561-b2d6-2814081acd34",
   "metadata": {},
   "outputs": [],
   "source": [
    "#ProporsiMasyarakatdiRumah = PMDR (dalam %)\n",
    "PMDR = (RatioDiam/(RatioDiam+PergerakanRelatif))*100"
   ]
  },
  {
   "cell_type": "code",
   "execution_count": 35,
   "id": "3b435e6e-7dd7-4b8b-9f7c-a570a9f06ed6",
   "metadata": {},
   "outputs": [
    {
     "data": {
      "text/plain": [
       "array([65.57979, 50.25625, 67.75116, ..., 56.06389, 37.17897, 53.15425])"
      ]
     },
     "execution_count": 35,
     "metadata": {},
     "output_type": "execute_result"
    }
   ],
   "source": [
    "PMDR"
   ]
  },
  {
   "cell_type": "code",
   "execution_count": 36,
   "id": "09e93cb2-72b2-4bdf-8645-afff9b2e74a4",
   "metadata": {},
   "outputs": [],
   "source": [
    "#DataFrame akhir\n",
    "#datapp = Data Pre Processed\n",
    "datapp = pd.DataFrame(columns = ['inputs','outputs'])\n",
    "datapp['inputs'] = inputs\n",
    "datapp['outputs'] = PMDR"
   ]
  },
  {
   "cell_type": "markdown",
   "id": "0a6e4108-c355-4b00-841f-6f90f0140932",
   "metadata": {},
   "source": [
    "Preprocessing #6 - Plotting input ('HariKe') dengan output ('PMDR') untuk melihat model apakah yang cocok untuk digunakan, dan apakah diperlukan transformasi dan reduksi data untuk mempermudah proses regresi/interpolasi/dkk :"
   ]
  },
  {
   "cell_type": "code",
   "execution_count": 37,
   "id": "00a74cd8-57e4-4205-9afb-3146d49275ac",
   "metadata": {},
   "outputs": [],
   "source": [
    "import matplotlib.pyplot as plt\n",
    "import seaborn as sns\n",
    "sns.set()"
   ]
  },
  {
   "cell_type": "code",
   "execution_count": 261,
   "id": "718ce358-e529-46a6-b657-0cfc1e49ce20",
   "metadata": {},
   "outputs": [
    {
     "data": {
      "image/png": "[encoded data removed]",
      "text/plain": [
       "<Figure size 720x288 with 2 Axes>"
      ]
     },
     "metadata": {},
     "output_type": "display_data"
    },
    {
     "data": {
      "text/plain": [
       "<seaborn.axisgrid.FacetGrid at 0x1a0a292a2b0>"
      ]
     },
     "execution_count": 261,
     "metadata": {},
     "output_type": "execute_result"
    },
    {
     "data": {
      "image/png": "[encoded data removed]",
      "text/plain": [
       "<Figure size 360x360 with 1 Axes>"
      ]
     },
     "metadata": {},
     "output_type": "display_data"
    }
   ],
   "source": [
    "fig, (ax1, ax2) = plt.subplots(1, 2,figsize = (10,4))\n",
    "fig.suptitle('CekData')\n",
    "ax1.scatter(datapp['inputs'],(datapp['outputs']))\n",
    "ax1.set_title('inputs with PMDR')\n",
    "ax2.scatter(datapp['inputs'],np.log(datapp['outputs']))\n",
    "ax2.set_title('inputs and logged-PMDR')\n",
    "plt.show()\n",
    "\n",
    "#Plot Distribusi PMDR sebelum di reduksi dengan q = 94%\n",
    "sns.displot(data=datapp['outputs'],kde=True)"
   ]
  },
  {
   "cell_type": "markdown",
   "id": "3844e62c-4489-4d81-bca1-5b809a5162d7",
   "metadata": {},
   "source": [
    "Berdasarkan plot diatas, maka **data yang akan digunakan adalah logged-data**, karena lebih \"padat\". Model regresi yang akan digunakan adalah **Polinomial Reggression**. Dan juga, berdasarkan plot, akan dilakukan reduksi data untuk mengeliminir outlier dan juga membuat distribusi data menjadi lebih normal, sehingga proses regresi akan lebih optimal. **Untuk reduksi, digunakan filter = data > quantile 5%**"
   ]
  },
  {
   "cell_type": "code",
   "execution_count": 262,
   "id": "2f6d9124-04ed-4ce1-82a8-8e93a0fe1922",
   "metadata": {},
   "outputs": [],
   "source": [
    "q = datapp['outputs'].quantile(0.05)"
   ]
  },
  {
   "cell_type": "code",
   "execution_count": 263,
   "id": "591cfb86-2643-4cad-843d-a2bbaa4a4b6e",
   "metadata": {},
   "outputs": [],
   "source": [
    "datapp2 = datapp[datapp['outputs']>q]"
   ]
  },
  {
   "cell_type": "code",
   "execution_count": 269,
   "id": "7246ae3c-715b-4870-8a29-459381c12324",
   "metadata": {},
   "outputs": [
    {
     "data": {
      "image/png": "[encoded data removed]",
      "text/plain": [
       "<Figure size 720x288 with 2 Axes>"
      ]
     },
     "metadata": {},
     "output_type": "display_data"
    },
    {
     "data": {
      "image/png": "[encoded data removed]",
      "text/plain": [
       "<Figure size 360x360 with 1 Axes>"
      ]
     },
     "metadata": {},
     "output_type": "display_data"
    }
   ],
   "source": [
    "fig, (ax1, ax2) = plt.subplots(1, 2,figsize = (10,4))\n",
    "fig.suptitle('CekData')\n",
    "ax1.scatter(datapp2['inputs'],(datapp2['outputs']))\n",
    "ax1.set_title('inputs with PMDR')\n",
    "ax2.scatter(datapp2['inputs'],np.log(datapp2['outputs']))\n",
    "ax2.set_title('inputs and logged-PMDR')\n",
    "plt.show()\n",
    "\n",
    "#plot Distribusi PMDR setelah di reduksi dengan q = 5%\n",
    "sns.displot(data=datapp2['outputs'],kde=True)\n",
    "plt.show()\n"
   ]
  },
  {
   "cell_type": "markdown",
   "id": "e6e390d4-b0c3-4486-b747-b73965ac6780",
   "metadata": {},
   "source": [
    "(Hasil Plot menunjukkan data insyaallah cukup bagus untuk dijadikan bahan pemodelan)"
   ]
  },
  {
   "cell_type": "code",
   "execution_count": 3,
   "id": "ab2d72a0-5724-42e7-a3a7-7c962d640390",
   "metadata": {},
   "outputs": [],
   "source": [
    "#chekcpoint\n",
    "datappakhir = datapp2.copy()\n",
    "datappakhir.to_csv('C:/Users/Rifqi/Documents/Data Science Penting/datappakhir.csv')"
   ]
  },
  {
   "cell_type": "markdown",
   "id": "db49de66-8781-496a-a519-4172e825a508",
   "metadata": {},
   "source": [
    "MODELLING :"
   ]
  },
  {
   "cell_type": "markdown",
   "id": "b71932e2-74b7-4a6f-89c2-b87d9fab6b5c",
   "metadata": {},
   "source": [
    "MODELLING #1 - Import Packages, Splitting Train & Test Data"
   ]
  },
  {
   "cell_type": "code",
   "execution_count": 1,
   "id": "090ca673-e2bd-4b4f-bb28-45e814dc8c2b",
   "metadata": {},
   "outputs": [],
   "source": [
    "#Import packages\n",
    "from sklearn.model_selection import train_test_split as tss\n",
    "from sklearn.linear_model import LinearRegression\n",
    "from sklearn.preprocessing import PolynomialFeatures as PF"
   ]
  },
  {
   "cell_type": "code",
   "execution_count": null,
   "id": "62ee044a-1692-450d-b9a0-71fe2053c673",
   "metadata": {},
   "outputs": [],
   "source": [
    "datappakhir['outputs'] = np.log(datappakhir['outputs'])"
   ]
  },
  {
   "cell_type": "code",
   "execution_count": 3,
   "id": "819241dc-44b4-46d8-a4b7-f07a7987d53e",
   "metadata": {},
   "outputs": [],
   "source": [
    "#Membagi data untuk model Training dna model Testing. Proporsinya --> Train 80% dan Test 20%.\n",
    "#Tidak menggunakan data validasi, karena jumlah data sedikit (306) \n",
    "#   dan juga model yang digunakan adalah Polinomial Regression yang tidak memmbutuhkan validation dataset\n",
    "\n",
    "#Data juga tidak di scaling, karena dirasa magnitude gap \n",
    "#    antara input dan output tidak terlalu besar/signifikan.\n",
    "\n",
    "XTrain, XTest, YTrain,YTest = tss(datappakhir['inputs'],datappakhir['outputs'], \n",
    "                                  test_size = 0.2, random_state = 29)"
   ]
  },
  {
   "cell_type": "markdown",
   "id": "f0820957-1ca9-452f-888e-21f4aafb281e",
   "metadata": {},
   "source": [
    "MODELLING #2 - Training Model & Menentukan Degree yang paling tepat/efektif berdasarkan perubahan nilai RSquared :"
   ]
  },
  {
   "cell_type": "code",
   "execution_count": 4,
   "id": "5bf8dd2f-4b16-4b70-85b3-51993d67e1c8",
   "metadata": {},
   "outputs": [
    {
     "data": {
      "text/plain": [
       "LinearRegression()"
      ]
     },
     "execution_count": 4,
     "metadata": {},
     "output_type": "execute_result"
    }
   ],
   "source": [
    "XTrain = XTrain.values.reshape((-1,1))\n",
    "\n",
    "poly_reg2 = PF(degree = 2)\n",
    "XTrainPoly2 = poly_reg2.fit_transform(XTrain)\n",
    "pol_reg2 = LinearRegression()\n",
    "pol_reg2.fit(XTrainPoly2, YTrain)\n",
    "\n",
    "poly_reg3 = PF(degree = 3)\n",
    "XTrainPoly3 = poly_reg3.fit_transform(XTrain)\n",
    "pol_reg3 = LinearRegression()\n",
    "pol_reg3.fit(XTrainPoly3, YTrain)\n",
    "\n",
    "poly_reg4 = PF(degree = 4)\n",
    "XTrainPoly4 = poly_reg4.fit_transform(XTrain)\n",
    "pol_reg4 = LinearRegression()\n",
    "pol_reg4.fit(XTrainPoly4, YTrain)\n",
    "\n",
    "poly_reg5 = PF(degree = 5)\n",
    "XTrainPoly5 = poly_reg5.fit_transform(XTrain)\n",
    "pol_reg5 = LinearRegression()\n",
    "pol_reg5.fit(XTrainPoly5, YTrain)"
   ]
  },
  {
   "cell_type": "code",
   "execution_count": 15,
   "id": "2d824208-a970-4d51-a111-b67c0b334653",
   "metadata": {},
   "outputs": [
    {
     "name": "stdout",
     "output_type": "stream",
     "text": [
      "R2 : 0.2753705370929922 R3 : 0.3821363060369115 R4 : 0.3839467040052562 R5 : 0.38403168868830695\n"
     ]
    }
   ],
   "source": [
    "R2 = pol_reg2.score(poly_reg2.fit_transform(XTrain),YTrain)\n",
    "R3 = pol_reg3.score(poly_reg3.fit_transform(XTrain),YTrain)\n",
    "R4 = pol_reg4.score(poly_reg4.fit_transform(XTrain),YTrain)\n",
    "R5 = pol_reg5.score(poly_reg5.fit_transform(XTrain),YTrain)\n",
    "print('R2 :',R2,'R3 :',R3,'R4 :',R4,'R5 :',R5)"
   ]
  },
  {
   "cell_type": "markdown",
   "id": "9a87f68b-7491-4401-87f1-041be64348a0",
   "metadata": {},
   "source": [
    "Berdasarkan informasi RSquared dari ke 4 degree tersebut, maka **degree ke-3** lah yang dipilih, karena tidak ada perubahan RSquared yang signifikan dari degree ke-4 dan seterusnya."
   ]
  },
  {
   "cell_type": "markdown",
   "id": "9897676a-13a9-4335-b15a-db0637ea9b62",
   "metadata": {},
   "source": [
    " "
   ]
  },
  {
   "cell_type": "markdown",
   "id": "138199bb-fb0c-4151-86db-18ff8ecdb4c3",
   "metadata": {},
   "source": [
    "MODELLING #3 - Print out Weights & Biases :\n",
    "\n",
    "didapat persamaan : \n",
    "\n",
    "${Y} = {\\beta} + w_{1}X_{(1)} + w_{2}X_{(2)}^{2} + w_{3}X_{(3)}^{3}$\n",
    "\n",
    "${Y} = 4.23 - 0.014X_{(1)} + 0.00009_{2}X_{(2)}^{2} - 0.0000002_{3}X_{(3)}^{3}$"
   ]
  },
  {
   "cell_type": "code",
   "execution_count": 74,
   "id": "ab68361b-ee68-4c5e-a562-306987fd3064",
   "metadata": {},
   "outputs": [
    {
     "data": {
      "text/plain": [
       "{'Weight': array([ 0.00000000e+00, -1.36940160e-02,  8.94373843e-05, -1.55854364e-07]),\n",
       " 'Bias': 4.22941433340493}"
      ]
     },
     "execution_count": 74,
     "metadata": {},
     "output_type": "execute_result"
    }
   ],
   "source": [
    "parameterregresi = {'Weight': pol_reg3.coef_ ,'Bias': pol_reg3.intercept_  }\n",
    "parameter_Regresi = pd.DataFrame(hasilregresi)\n",
    "parameterregresi\n"
   ]
  },
  {
   "cell_type": "markdown",
   "id": "daa61806-2203-4877-a9df-4fc28b4ca6a1",
   "metadata": {},
   "source": [
    "MODELLING #4 - Cek Plot Data :"
   ]
  },
  {
   "cell_type": "code",
   "execution_count": 77,
   "id": "dce5e868-90e4-4649-aa67-4fe8a4b43160",
   "metadata": {},
   "outputs": [
    {
     "data": {
      "text/plain": [
       "<matplotlib.legend.Legend at 0x1a032b0fc70>"
      ]
     },
     "execution_count": 77,
     "metadata": {},
     "output_type": "execute_result"
    },
    {
     "data": {
      "image/png": "[encoded data removed]",
      "text/plain": [
       "<Figure size 432x288 with 1 Axes>"
      ]
     },
     "metadata": {},
     "output_type": "display_data"
    }
   ],
   "source": [
    "plt.scatter(XTrain, YTrain, c='lightseagreen',label='Training Inputs')\n",
    "plt.scatter(XTrain, pol_reg3.predict(poly_reg3.fit_transform(XTrain)), c='black',label='Regression Line')\n",
    "plt.xlabel('Inputs(Days)',c='indigo',size=15)\n",
    "plt.ylabel('Outputs(logged PMDR)',c='indigo',size=15)\n",
    "plt.title('Plotting Data Training dengan Garis Regresi', c='black',size=20)\n",
    "plt.legend()"
   ]
  },
  {
   "cell_type": "markdown",
   "id": "133b393d-0cab-4534-8240-fac9f5d68699",
   "metadata": {},
   "source": [
    "MODELLING #5 - Menghitung Akurasi Model pada data training (perbedaan antara YHat (hasil prediksi model dari data Training) dengan YTrain (data) :"
   ]
  },
  {
   "cell_type": "code",
   "execution_count": 11,
   "id": "8c293b52-246d-4a0e-a11c-14d1c5ffda42",
   "metadata": {},
   "outputs": [],
   "source": [
    "YHat = pol_reg3.predict(poly_reg3.fit_transform(XTrain))"
   ]
  },
  {
   "cell_type": "code",
   "execution_count": 13,
   "id": "b799dc2a-ce93-4ec0-b6cc-6bccf3d4d23b",
   "metadata": {},
   "outputs": [
    {
     "name": "stdout",
     "output_type": "stream",
     "text": [
      "Training Accuracy = 95.74145211115265 %\n",
      "RSqured Value = 0.3821363060369115\n"
     ]
    }
   ],
   "source": [
    "TrainingAccuracy = np.average((100-(((np.absolute(YHat-YTrain))/YTrain)*100)))\n",
    "print('Training Accuracy =',TrainingAccuracy,'%')\n",
    "print('RSqured Value =',R3)"
   ]
  },
  {
   "cell_type": "markdown",
   "id": "3080486e-9941-4967-9882-792c401fab91",
   "metadata": {},
   "source": [
    "Hasil Akurasi 95,7% namun RSquared bernilai kecil, yaitu 38,2%. Hal ini mungkin disebabkan karena parameter/feature(X) yang digunakan untuk menentukan target(Y) hanya 1, yang kemudian diubah kebentuk Polinomial derajat 3, sedangkan RSquared menunjukan seberapa besar variansi 1 parameter mempengaruhi variansi parameter lainnya. Selain itu, jumlah data yang digunakan mungkin tidak cukup banyak bagi model untuk bisa mempelajari kovariansi data."
   ]
  },
  {
   "cell_type": "markdown",
   "id": "06d67bd8-780f-43d9-99b5-afc5ecd1ea1d",
   "metadata": {},
   "source": [
    "MODELLING #5 - Menghitung Akurasi Model pada data testing (perbedaan antara YHatTargets(hasil prediksi model dari data Testing) dengan YTest (data)) :"
   ]
  },
  {
   "cell_type": "code",
   "execution_count": 25,
   "id": "91a5ed23-f0bc-4f82-b860-ca724eb4e65f",
   "metadata": {},
   "outputs": [],
   "source": [
    "XTest = XTest.values.reshape((-1,1))\n",
    "YHatTargets = pol_reg3.predict(poly_reg3.fit_transform(XTest))"
   ]
  },
  {
   "cell_type": "code",
   "execution_count": 78,
   "id": "2b854221-a2c3-416c-9012-5b35d874f21f",
   "metadata": {},
   "outputs": [
    {
     "data": {
      "text/plain": [
       "<matplotlib.legend.Legend at 0x1a032b7c880>"
      ]
     },
     "execution_count": 78,
     "metadata": {},
     "output_type": "execute_result"
    },
    {
     "data": {
      "image/png": "[encoded data removed]",
      "text/plain": [
       "<Figure size 432x288 with 1 Axes>"
      ]
     },
     "metadata": {},
     "output_type": "display_data"
    }
   ],
   "source": [
    "plt.scatter(XTest, YTest, c='lightseagreen',label='Test Inputs')\n",
    "plt.scatter(XTest, YHatTargets, c='black',label='Regression Line')\n",
    "plt.xlabel('Inputs(Days)',c='indigo',size=15)\n",
    "plt.ylabel('Outputs(logged PMDR)',c='indigo',size=15)\n",
    "plt.title('Plotting Data Test dengan Garis Regresi', c='black',size=20)\n",
    "plt.legend()"
   ]
  },
  {
   "cell_type": "code",
   "execution_count": 28,
   "id": "fd024f88-22e7-4059-86db-8ae77f593b3f",
   "metadata": {},
   "outputs": [
    {
     "name": "stdout",
     "output_type": "stream",
     "text": [
      "Test Accuracy = 95.61845615850424 %\n"
     ]
    }
   ],
   "source": [
    "TestAccuracy = np.average((100-(((np.absolute(YHatTargets-YTest))/YTest)*100)))\n",
    "print('Test Accuracy =',TestAccuracy,'%')"
   ]
  },
  {
   "cell_type": "markdown",
   "id": "dd8ad3fa-edbe-4c8b-846b-c2e5775ef0be",
   "metadata": {},
   "source": [
    "**Akurasi data Test dianggap Akurasi sebenarnya dari model**"
   ]
  },
  {
   "cell_type": "markdown",
   "id": "7fcbbb4c-61e1-4302-a23d-5259cb3160e1",
   "metadata": {},
   "source": [
    "PREDICTING :"
   ]
  },
  {
   "cell_type": "markdown",
   "id": "35ce88ef-1e96-4bbf-9907-ff399ed98deb",
   "metadata": {},
   "source": [
    "PREDIKSI 2 MINGGU KEDEPAN DARI HARI TERAKHIR PADA DATA YANG TERSEDIA (Hari ke 307 s.d. 321 --> 31 Desember 2020 s.d. 13 Januari 2021) :"
   ]
  },
  {
   "cell_type": "code",
   "execution_count": 29,
   "id": "73c70cf5-9c28-45b2-80d5-6c3cc43713aa",
   "metadata": {},
   "outputs": [],
   "source": [
    "DayToPredict = np.array([i for i in range(307,321)]).reshape((-1,1))\n",
    "Poly_DTP = poly_reg3.fit_transform(DayToPredict)"
   ]
  },
  {
   "cell_type": "code",
   "execution_count": 30,
   "id": "16f3c974-d38a-4d8e-83ca-9513e56f1101",
   "metadata": {},
   "outputs": [],
   "source": [
    "#Karena pada model dilatih dengan data yang telah di logaritma kan, \\\n",
    "#    maka nilai %PMDR yang didapat dari prediksi harus dieksponensialkan, \n",
    "#    untuk mendapat %PMDR yang sebenarnya\n",
    "PMDR_2_Minggu_Kedepan = np.exp(pol_reg3.predict(Poly_DTP))"
   ]
  },
  {
   "cell_type": "code",
   "execution_count": 31,
   "id": "1db97e8d-65cf-4665-8468-39ea0430824b",
   "metadata": {},
   "outputs": [
    {
     "data": {
      "text/plain": [
       "array([51.6854473 , 51.53572117, 51.38082055, 51.22074687, 51.05550369,\n",
       "       50.88509671, 50.70953385, 50.52882521, 50.34298311, 50.1520221 ,\n",
       "       49.95595899, 49.75481284, 49.54860496, 49.33735897])"
      ]
     },
     "execution_count": 31,
     "metadata": {},
     "output_type": "execute_result"
    }
   ],
   "source": [
    "PMDR_2_Minggu_Kedepan"
   ]
  },
  {
   "cell_type": "code",
   "execution_count": 34,
   "id": "a3e7bc79-e2bc-4869-8453-c00629abc394",
   "metadata": {},
   "outputs": [],
   "source": [
    "#Pembuatan DataFrame Hasil Prediksi\n",
    "import datetime as dt\n",
    "Prediksi_PMDR_2_Minggu_Kedepan = pd.DataFrame(columns = ['Tanggal', \"%PMDR\"])\n",
    "Prediksi_PMDR_2_Minggu_Kedepan['Tanggal'] = [i for i in range(737790,737804)]\n",
    "Prediksi_PMDR_2_Minggu_Kedepan['Tanggal'] = Prediksi_PMDR_2_Minggu_Kedepan['Tanggal'].map(dt.datetime.fromordinal)\n",
    "Prediksi_PMDR_2_Minggu_Kedepan['%PMDR'] = PMDR_2_Minggu_Kedepan"
   ]
  },
  {
   "cell_type": "code",
   "execution_count": 35,
   "id": "82c03b07-54c9-4634-87a2-a7292763c974",
   "metadata": {},
   "outputs": [
    {
     "data": {
      "text/html": [
       "<div>\n",
       "<style scoped>\n",
       "    .dataframe tbody tr th:only-of-type {\n",
       "        vertical-align: middle;\n",
       "    }\n",
       "\n",
       "    .dataframe tbody tr th {\n",
       "        vertical-align: top;\n",
       "    }\n",
       "\n",
       "    .dataframe thead th {\n",
       "        text-align: right;\n",
       "    }\n",
       "</style>\n",
       "<table border=\"1\" class=\"dataframe\">\n",
       "  <thead>\n",
       "    <tr style=\"text-align: right;\">\n",
       "      <th></th>\n",
       "      <th>Tanggal</th>\n",
       "      <th>%PMDR</th>\n",
       "    </tr>\n",
       "  </thead>\n",
       "  <tbody>\n",
       "    <tr>\n",
       "      <th>0</th>\n",
       "      <td>2020-12-31</td>\n",
       "      <td>51.685447</td>\n",
       "    </tr>\n",
       "    <tr>\n",
       "      <th>1</th>\n",
       "      <td>2021-01-01</td>\n",
       "      <td>51.535721</td>\n",
       "    </tr>\n",
       "    <tr>\n",
       "      <th>2</th>\n",
       "      <td>2021-01-02</td>\n",
       "      <td>51.380821</td>\n",
       "    </tr>\n",
       "    <tr>\n",
       "      <th>3</th>\n",
       "      <td>2021-01-03</td>\n",
       "      <td>51.220747</td>\n",
       "    </tr>\n",
       "    <tr>\n",
       "      <th>4</th>\n",
       "      <td>2021-01-04</td>\n",
       "      <td>51.055504</td>\n",
       "    </tr>\n",
       "    <tr>\n",
       "      <th>5</th>\n",
       "      <td>2021-01-05</td>\n",
       "      <td>50.885097</td>\n",
       "    </tr>\n",
       "    <tr>\n",
       "      <th>6</th>\n",
       "      <td>2021-01-06</td>\n",
       "      <td>50.709534</td>\n",
       "    </tr>\n",
       "    <tr>\n",
       "      <th>7</th>\n",
       "      <td>2021-01-07</td>\n",
       "      <td>50.528825</td>\n",
       "    </tr>\n",
       "    <tr>\n",
       "      <th>8</th>\n",
       "      <td>2021-01-08</td>\n",
       "      <td>50.342983</td>\n",
       "    </tr>\n",
       "    <tr>\n",
       "      <th>9</th>\n",
       "      <td>2021-01-09</td>\n",
       "      <td>50.152022</td>\n",
       "    </tr>\n",
       "    <tr>\n",
       "      <th>10</th>\n",
       "      <td>2021-01-10</td>\n",
       "      <td>49.955959</td>\n",
       "    </tr>\n",
       "    <tr>\n",
       "      <th>11</th>\n",
       "      <td>2021-01-11</td>\n",
       "      <td>49.754813</td>\n",
       "    </tr>\n",
       "    <tr>\n",
       "      <th>12</th>\n",
       "      <td>2021-01-12</td>\n",
       "      <td>49.548605</td>\n",
       "    </tr>\n",
       "    <tr>\n",
       "      <th>13</th>\n",
       "      <td>2021-01-13</td>\n",
       "      <td>49.337359</td>\n",
       "    </tr>\n",
       "  </tbody>\n",
       "</table>\n",
       "</div>"
      ],
      "text/plain": [
       "      Tanggal      %PMDR\n",
       "0  2020-12-31  51.685447\n",
       "1  2021-01-01  51.535721\n",
       "2  2021-01-02  51.380821\n",
       "3  2021-01-03  51.220747\n",
       "4  2021-01-04  51.055504\n",
       "5  2021-01-05  50.885097\n",
       "6  2021-01-06  50.709534\n",
       "7  2021-01-07  50.528825\n",
       "8  2021-01-08  50.342983\n",
       "9  2021-01-09  50.152022\n",
       "10 2021-01-10  49.955959\n",
       "11 2021-01-11  49.754813\n",
       "12 2021-01-12  49.548605\n",
       "13 2021-01-13  49.337359"
      ]
     },
     "execution_count": 35,
     "metadata": {},
     "output_type": "execute_result"
    }
   ],
   "source": [
    "Prediksi_PMDR_2_Minggu_Kedepan"
   ]
  },
  {
   "cell_type": "markdown",
   "id": "46a6c468-a105-420c-9767-75f84b248bde",
   "metadata": {},
   "source": [
    "***Berdasarkan Output diatas, didapat bahwa untuk dua minggu kedepan, Tren Rasio Masyarakat Yang berdiam diri dirumah akan terus menurun, \n",
    "yang berarti kemungkinan Masyarakat akan mulai kembali beraktifitas diluar rumah untuk 2 minggu kedapan. Dan jika tren berlanjut,\n",
    "maka makin lama kegiatan WFH semakin berkurang, yang mana jika penyebaran COVID-19 tidak terkontrol, maka akan menjadi permasalahan baru.***"
   ]
  },
  {
   "cell_type": "code",
   "execution_count": 81,
   "id": "3bfffbc0-facc-4438-9905-56eab2e6041f",
   "metadata": {},
   "outputs": [
    {
     "data": {
      "image/png": "[encoded data removed]",
      "text/plain": [
       "<Figure size 432x288 with 1 Axes>"
      ]
     },
     "metadata": {},
     "output_type": "display_data"
    }
   ],
   "source": [
    "plt.scatter(Prediksi_PMDR_2_Minggu_Kedepan['Tanggal'], \n",
    "            Prediksi_PMDR_2_Minggu_Kedepan['%PMDR'], \n",
    "            c='lightseagreen',label='Prediksi %PMDR')\n",
    "plt.xlabel('Tanggal',c='indigo',size=15)\n",
    "plt.ylabel('%PMDR',c='indigo',size=15)\n",
    "plt.title('Prediksi %PMDR 2 minggu kedepan', c='black',size=20)\n",
    "plt.ylim(48,54)\n",
    "plt.xticks(rotation = 270)\n",
    "plt.legend()\n",
    "#plt.savefig('PrediksiPolinomial.png',facecolor='w', edgecolor='w',orientation='landscape')"
   ]
  },
  {
   "cell_type": "markdown",
   "id": "e2d10994-220f-45c0-a857-4bcc854f0297",
   "metadata": {},
   "source": [
    "SAVING :\n",
    "\n",
    "SAVING #1 - Menyimpan Model yang telah dibuat"
   ]
  },
  {
   "cell_type": "code",
   "execution_count": 40,
   "id": "ce4da130-a7bf-4041-8974-637bf0a06bd6",
   "metadata": {},
   "outputs": [],
   "source": [
    "#Menyimpan model agar bisa digunakan kembali jika ada data serupa yang akan diprediksi\n",
    "import pickle\n",
    "with open('PolyRegModelTestJDS','wb') as file:\n",
    "    pickle.dump(pol_reg3, file)"
   ]
  },
  {
   "cell_type": "markdown",
   "id": "68050510-92e5-45c3-9b52-8b2b9f3ffccf",
   "metadata": {},
   "source": [
    "SAVING #2 - Menyimpan hasil prediksi"
   ]
  },
  {
   "cell_type": "code",
   "execution_count": 41,
   "id": "067b204e-3fb1-4273-8e52-d7aa4c49a5f1",
   "metadata": {},
   "outputs": [],
   "source": [
    "Prediksi_PMDR_2_Minggu_Kedepan.to_excel('HasilPrediksi2MingguTesJDS.xlsx',encoding='utf-8', index =False)"
   ]
  },
  {
   "cell_type": "markdown",
   "id": "a072c20f-2f1e-4427-8119-b3278d989cce",
   "metadata": {},
   "source": [
    "SAVING #3 - Menyimpan Parameter model regresi"
   ]
  },
  {
   "cell_type": "code",
   "execution_count": 75,
   "id": "31adc0ec-7c18-4772-aca7-b3eb258baabf",
   "metadata": {},
   "outputs": [],
   "source": [
    "parameter_Regresi.to_excel('ParameterRegresiPolinomialTestJDS.xlsx',encoding='utf-8', index =False)"
   ]
  }
 ],
 "metadata": {
  "kernelspec": {
   "display_name": "Python 3",
   "language": "python",
   "name": "python3"
  },
  "language_info": {
   "codemirror_mode": {
    "name": "ipython",
    "version": 3
   },
   "file_extension": ".py",
   "mimetype": "text/x-python",
   "name": "python",
   "nbconvert_exporter": "python",
   "pygments_lexer": "ipython3",
   "version": "3.8.8"
  }
 },
 "nbformat": 4,
 "nbformat_minor": 5
}
